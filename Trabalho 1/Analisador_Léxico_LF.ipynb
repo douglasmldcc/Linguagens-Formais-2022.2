{
  "nbformat": 4,
  "nbformat_minor": 0,
  "metadata": {
    "colab": {
      "provenance": [],
      "collapsed_sections": []
    },
    "kernelspec": {
      "name": "python3",
      "display_name": "Python 3"
    },
    "language_info": {
      "name": "python"
    }
  },
  "cells": [
    {
      "cell_type": "code",
      "execution_count": null,
      "metadata": {
        "id": "_L5QCAwPXzQV"
      },
      "outputs": [],
      "source": [
        "import sympy as sym\n",
        "import numpy as np\n",
        "from IPython.display import display, Markdown, Latex, HTML\n",
        "import scipy as sp"
      ]
    },
    {
      "cell_type": "code",
      "source": [
        "#Lista de compreende o alfabeto aceito pela nossa linguagem\n",
        "AfBt=[\"0\",\"1\"]"
      ],
      "metadata": {
        "id": "xmkYUqMx1_97"
      },
      "execution_count": 11,
      "outputs": []
    },
    {
      "cell_type": "code",
      "source": [
        "#Matriz de estados do nosso automato \n",
        "#A ultima posição da matriz de estados reconheço quais estados são finais\n",
        "#Linguagem 1 \n",
        "Lgg1 = [[1, 0, 0], \n",
        "    [2, 0, 0],\n",
        "    [2, 0, 1]]\n",
        "#Linguagem 2 \n",
        "Lgg2 = [[1, 0, 0], \n",
        "    [0, 2, 0],\n",
        "    [2, 0, 1]]"
      ],
      "metadata": {
        "id": "X5nnaowhfzVe"
      },
      "execution_count": 40,
      "outputs": []
    },
    {
      "cell_type": "code",
      "source": [
        "#Função que Valida a Palavra para o analisador \n",
        "\n",
        "def ValidaPalavra(plv,Afb):\n",
        "    #Log de funcionamento, descomentar abaixo para verificação\n",
        "    ##print(plv)\n",
        "  # Remove espaços brancos \n",
        "  while(\" \" in plv):\n",
        "      plv.remove(\" \")\n",
        "    #Log de funcionamento, descomentar abaixo para verificação\n",
        "    ##print(plv)\n",
        "  #Valida se os caracteres da palavra constam no alfabeto\n",
        "  valida = 0  #Variavel que incrementa se alguma caractere intruso é encontrado\n",
        "  #Percorre os caracteres da palavra \n",
        "  for v in plv:\n",
        "    #Percorre os caracteres do nosso alfabeto\n",
        "    if v in Afb:\n",
        "      #Caractere consta no alfabeto\n",
        "      valida +=0\n",
        "    else:\n",
        "      #Caractere não consta no alfabeto\n",
        "      valida +=1\n",
        "  #Verifica se o algoritmo encontrou algum caracterer fora do alfabeto\n",
        "  if valida > 0:\n",
        "    x = 0\n",
        "    #Algoritom encontrou um caractere fora da linguagem, retorna False\n",
        "    return bool(x)\n",
        "  else:\n",
        "    x = 1\n",
        "    #Algoritom encontrou um caractere fora da linguagem, retorna False\n",
        "    return bool(x)"
      ],
      "metadata": {
        "id": "jZ3ip_3bqXOm"
      },
      "execution_count": 13,
      "outputs": []
    },
    {
      "cell_type": "code",
      "source": [
        "#Função que executa as funções principais do analisador \n",
        "#Input da função é a matriz da linguagem \n",
        "def Analisador(lg):\n",
        "  #Palavra a ser testada \n",
        "  pv = list(input(\"Entre com a palavra: \"))\n",
        "  #Palavra passa pela validação \n",
        "  if(ValidaPalavra(pv,AfBt)):\n",
        "    #Palavra  consta no alfabeto, programa continua\n",
        "      #print(\"Continua Programa\")\n",
        "    #Variavel que indica o estado inicial, estamos usando apenas estados iniciais em 0\n",
        "    estado = 0\n",
        "    #Observamos o comportamento da palavra\n",
        "    for i in pv:\n",
        "      #Estado é modificado observando a matriz de estados\n",
        "      estado=(lg[estado][int(i)])\n",
        "    #Observamos se o estado final da palavra é o estado final da matriz da linguagem\n",
        "    if (lg[estado][2])==1:\n",
        "      print(\"Palavra Valida na Liguagem\")\n",
        "    else:\n",
        "      print(\"Palavra Invalida na Liguagem\")\n",
        "  else: \n",
        "    #Palavra não consta no alfabeto ou algum erro foi encontrado\n",
        "    print(\"ERRO -- Caractere fora do alfabeto | Caractere invalido\")\n"
      ],
      "metadata": {
        "id": "M8TB5kdYqkvl"
      },
      "execution_count": 26,
      "outputs": []
    },
    {
      "cell_type": "code",
      "source": [
        "Analisador(Lgg1)"
      ],
      "metadata": {
        "colab": {
          "base_uri": "https://localhost:8080/"
        },
        "id": "LL387u7H7PHa",
        "outputId": "6e1bb96e-1190-4c30-ce4c-5177ded3d0c5"
      },
      "execution_count": 41,
      "outputs": [
        {
          "output_type": "stream",
          "name": "stdout",
          "text": [
            "Entre com a palavra: 010101000\n",
            "Palavra Valida na Liguagem\n"
          ]
        }
      ]
    },
    {
      "cell_type": "code",
      "source": [
        "Analisador(Lgg2)"
      ],
      "metadata": {
        "colab": {
          "base_uri": "https://localhost:8080/"
        },
        "id": "FPc5G72p9Bx3",
        "outputId": "58fdb0af-60d0-4fe6-f342-01e1c49172af"
      },
      "execution_count": 42,
      "outputs": [
        {
          "output_type": "stream",
          "name": "stdout",
          "text": [
            "Entre com a palavra: 010\n",
            "Palavra Invalida na Liguagem\n"
          ]
        }
      ]
    }
  ]
}